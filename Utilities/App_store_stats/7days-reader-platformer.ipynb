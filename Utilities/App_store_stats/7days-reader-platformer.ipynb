{
 "cells": [
  {
   "cell_type": "code",
   "execution_count": 1,
   "metadata": {
    "collapsed": true
   },
   "outputs": [],
   "source": [
    "import pandas as pd\n",
    "import glob"
   ]
  },
  {
   "cell_type": "code",
   "execution_count": 2,
   "metadata": {
    "collapsed": false
   },
   "outputs": [],
   "source": [
    "#files_all = glob.glob('data/*.csv')\n",
    "platform = glob.glob('data/ch_platform_*.csv')\n",
    "platformer = glob.glob('data/ch_platformer_*.csv')"
   ]
  },
  {
   "cell_type": "code",
   "execution_count": 4,
   "metadata": {
    "collapsed": false
   },
   "outputs": [
    {
     "data": {
      "text/html": [
       "<div>\n",
       "<table border=\"1\" class=\"dataframe\">\n",
       "  <thead>\n",
       "    <tr style=\"text-align: right;\">\n",
       "      <th></th>\n",
       "      <th>Name</th>\n",
       "      <th>Rank</th>\n",
       "      <th>Release</th>\n",
       "      <th>Update</th>\n",
       "      <th>Rank_2016-08-23</th>\n",
       "      <th>Rank_2016-08-25</th>\n",
       "      <th>Rank_2016-08-27</th>\n",
       "      <th>Rank_2016-09-08</th>\n",
       "    </tr>\n",
       "  </thead>\n",
       "  <tbody>\n",
       "    <tr>\n",
       "      <th>0</th>\n",
       "      <td>Lep's World Kostenlos - das super beste Jump a...</td>\n",
       "      <td>1.0</td>\n",
       "      <td>2011-12</td>\n",
       "      <td>2016-08</td>\n",
       "      <td>1.0</td>\n",
       "      <td>1.0</td>\n",
       "      <td>1.0</td>\n",
       "      <td>NaN</td>\n",
       "    </tr>\n",
       "    <tr>\n",
       "      <th>1</th>\n",
       "      <td>Mega Run - Redford's Adventure</td>\n",
       "      <td>2.0</td>\n",
       "      <td>2012-05</td>\n",
       "      <td>2015-12</td>\n",
       "      <td>2.0</td>\n",
       "      <td>2.0</td>\n",
       "      <td>2.0</td>\n",
       "      <td>2.0</td>\n",
       "    </tr>\n",
       "  </tbody>\n",
       "</table>\n",
       "</div>"
      ],
      "text/plain": [
       "                                                Name  Rank  Release   Update  \\\n",
       "0  Lep's World Kostenlos - das super beste Jump a...   1.0  2011-12  2016-08   \n",
       "1                     Mega Run - Redford's Adventure   2.0  2012-05  2015-12   \n",
       "\n",
       "   Rank_2016-08-23  Rank_2016-08-25  Rank_2016-08-27  Rank_2016-09-08  \n",
       "0              1.0              1.0              1.0              NaN  \n",
       "1              2.0              2.0              2.0              2.0  "
      ]
     },
     "execution_count": 4,
     "metadata": {},
     "output_type": "execute_result"
    }
   ],
   "source": [
    "def short_date(value):\n",
    "    return value[:7]\n",
    "\n",
    "df = pd.DataFrame()\n",
    "last_date = ''\n",
    "for file in platform:\n",
    "    if df.shape[0] == 0:\n",
    "        df = pd.read_csv(file, usecols=['Name', 'Release', 'Update', 'Rank']) # 'Release', 'Update', \n",
    "        df['Release'] = df['Release'].apply(short_date)\n",
    "        df['Update'] = df['Update'].apply(short_date)\n",
    "    else:\n",
    "        the_date = file.split('_')[2][:-4]\n",
    "        new_df = pd.read_csv(file, usecols=['Name', 'Rank'])\n",
    "        df = df.merge(new_df, how='outer', on='Name', suffixes=('', '_'+the_date), copy=False)\n",
    "        last_date = the_date\n",
    "    \n",
    "df.head(2)"
   ]
  },
  {
   "cell_type": "code",
   "execution_count": 5,
   "metadata": {
    "collapsed": false
   },
   "outputs": [],
   "source": [
    "df['rank_delta'] = df['Rank_' + last_date] - df['Rank']\n",
    "best_ev = df.sort_values(by='rank_delta').head(5)\n",
    "worst_ev = df.sort_values(by='rank_delta', ascending=False).head(5)"
   ]
  },
  {
   "cell_type": "code",
   "execution_count": 6,
   "metadata": {
    "collapsed": false
   },
   "outputs": [
    {
     "data": {
      "text/html": [
       "<div>\n",
       "<table border=\"1\" class=\"dataframe\">\n",
       "  <thead>\n",
       "    <tr style=\"text-align: right;\">\n",
       "      <th></th>\n",
       "      <th>Name</th>\n",
       "      <th>Rank</th>\n",
       "      <th>Release</th>\n",
       "      <th>Update</th>\n",
       "      <th>Rank_2016-08-23</th>\n",
       "      <th>Rank_2016-08-25</th>\n",
       "      <th>Rank_2016-08-27</th>\n",
       "      <th>Rank_2016-09-08</th>\n",
       "      <th>rank_delta</th>\n",
       "    </tr>\n",
       "  </thead>\n",
       "  <tbody>\n",
       "    <tr>\n",
       "      <th>47</th>\n",
       "      <td>Rocco´s Block Land - a super 2d retro jump and...</td>\n",
       "      <td>48.0</td>\n",
       "      <td>2012-07</td>\n",
       "      <td>2014-12</td>\n",
       "      <td>48.0</td>\n",
       "      <td>49.0</td>\n",
       "      <td>49.0</td>\n",
       "      <td>135.0</td>\n",
       "      <td>87.0</td>\n",
       "    </tr>\n",
       "    <tr>\n",
       "      <th>9</th>\n",
       "      <td>Kiba &amp; Kumba: Jungle Jump - SpielAffe™ gratis ...</td>\n",
       "      <td>10.0</td>\n",
       "      <td>2013-08</td>\n",
       "      <td>2013-10</td>\n",
       "      <td>10.0</td>\n",
       "      <td>11.0</td>\n",
       "      <td>11.0</td>\n",
       "      <td>57.0</td>\n",
       "      <td>47.0</td>\n",
       "    </tr>\n",
       "    <tr>\n",
       "      <th>8</th>\n",
       "      <td>Kiba &amp; Kumba: Jungle Run - SpielAffe ™ kostenl...</td>\n",
       "      <td>9.0</td>\n",
       "      <td>2013-07</td>\n",
       "      <td>2014-04</td>\n",
       "      <td>9.0</td>\n",
       "      <td>10.0</td>\n",
       "      <td>9.0</td>\n",
       "      <td>56.0</td>\n",
       "      <td>47.0</td>\n",
       "    </tr>\n",
       "    <tr>\n",
       "      <th>49</th>\n",
       "      <td>PlayKids Party - Spiele und Aktivitäten für Ki...</td>\n",
       "      <td>50.0</td>\n",
       "      <td>2015-12</td>\n",
       "      <td>2016-08</td>\n",
       "      <td>50.0</td>\n",
       "      <td>48.0</td>\n",
       "      <td>61.0</td>\n",
       "      <td>71.0</td>\n",
       "      <td>21.0</td>\n",
       "    </tr>\n",
       "    <tr>\n",
       "      <th>70</th>\n",
       "      <td>Sky Chasers</td>\n",
       "      <td>71.0</td>\n",
       "      <td>2016-01</td>\n",
       "      <td>2016-08</td>\n",
       "      <td>68.0</td>\n",
       "      <td>71.0</td>\n",
       "      <td>77.0</td>\n",
       "      <td>82.0</td>\n",
       "      <td>11.0</td>\n",
       "    </tr>\n",
       "  </tbody>\n",
       "</table>\n",
       "</div>"
      ],
      "text/plain": [
       "                                                 Name  Rank  Release   Update  \\\n",
       "47  Rocco´s Block Land - a super 2d retro jump and...  48.0  2012-07  2014-12   \n",
       "9   Kiba & Kumba: Jungle Jump - SpielAffe™ gratis ...  10.0  2013-08  2013-10   \n",
       "8   Kiba & Kumba: Jungle Run - SpielAffe ™ kostenl...   9.0  2013-07  2014-04   \n",
       "49  PlayKids Party - Spiele und Aktivitäten für Ki...  50.0  2015-12  2016-08   \n",
       "70                                        Sky Chasers  71.0  2016-01  2016-08   \n",
       "\n",
       "    Rank_2016-08-23  Rank_2016-08-25  Rank_2016-08-27  Rank_2016-09-08  \\\n",
       "47             48.0             49.0             49.0            135.0   \n",
       "9              10.0             11.0             11.0             57.0   \n",
       "8               9.0             10.0              9.0             56.0   \n",
       "49             50.0             48.0             61.0             71.0   \n",
       "70             68.0             71.0             77.0             82.0   \n",
       "\n",
       "    rank_delta  \n",
       "47        87.0  \n",
       "9         47.0  \n",
       "8         47.0  \n",
       "49        21.0  \n",
       "70        11.0  "
      ]
     },
     "execution_count": 6,
     "metadata": {},
     "output_type": "execute_result"
    }
   ],
   "source": [
    "worst_ev"
   ]
  },
  {
   "cell_type": "code",
   "execution_count": 7,
   "metadata": {
    "collapsed": false
   },
   "outputs": [
    {
     "data": {
      "text/html": [
       "<div>\n",
       "<table border=\"1\" class=\"dataframe\">\n",
       "  <thead>\n",
       "    <tr style=\"text-align: right;\">\n",
       "      <th></th>\n",
       "      <th>Name</th>\n",
       "      <th>Rank</th>\n",
       "      <th>Release</th>\n",
       "      <th>Update</th>\n",
       "      <th>Rank_2016-08-23</th>\n",
       "      <th>Rank_2016-08-25</th>\n",
       "      <th>Rank_2016-08-27</th>\n",
       "      <th>Rank_2016-09-08</th>\n",
       "      <th>rank_delta</th>\n",
       "    </tr>\n",
       "  </thead>\n",
       "  <tbody>\n",
       "    <tr>\n",
       "      <th>92</th>\n",
       "      <td>Edgar the Explorer, Jump ’n’ Run</td>\n",
       "      <td>93.0</td>\n",
       "      <td>2016-08</td>\n",
       "      <td>2016-08</td>\n",
       "      <td>92.0</td>\n",
       "      <td>131.0</td>\n",
       "      <td>51.0</td>\n",
       "      <td>32.0</td>\n",
       "      <td>-61.0</td>\n",
       "    </tr>\n",
       "    <tr>\n",
       "      <th>83</th>\n",
       "      <td>Mercurial Story</td>\n",
       "      <td>84.0</td>\n",
       "      <td>2014-11</td>\n",
       "      <td>2014-11</td>\n",
       "      <td>84.0</td>\n",
       "      <td>84.0</td>\n",
       "      <td>87.0</td>\n",
       "      <td>75.0</td>\n",
       "      <td>-9.0</td>\n",
       "    </tr>\n",
       "    <tr>\n",
       "      <th>135</th>\n",
       "      <td>Type:Rider</td>\n",
       "      <td>136.0</td>\n",
       "      <td>2013-10</td>\n",
       "      <td>2013-11</td>\n",
       "      <td>136.0</td>\n",
       "      <td>136.0</td>\n",
       "      <td>138.0</td>\n",
       "      <td>128.0</td>\n",
       "      <td>-8.0</td>\n",
       "    </tr>\n",
       "    <tr>\n",
       "      <th>39</th>\n",
       "      <td>LIMBO</td>\n",
       "      <td>40.0</td>\n",
       "      <td>2013-07</td>\n",
       "      <td>2014-12</td>\n",
       "      <td>40.0</td>\n",
       "      <td>40.0</td>\n",
       "      <td>41.0</td>\n",
       "      <td>33.0</td>\n",
       "      <td>-7.0</td>\n",
       "    </tr>\n",
       "    <tr>\n",
       "      <th>32</th>\n",
       "      <td>Apple-Rächer : Kostenloser Spaß laufen und spr...</td>\n",
       "      <td>33.0</td>\n",
       "      <td>2012-08</td>\n",
       "      <td>2016-05</td>\n",
       "      <td>33.0</td>\n",
       "      <td>33.0</td>\n",
       "      <td>34.0</td>\n",
       "      <td>26.0</td>\n",
       "      <td>-7.0</td>\n",
       "    </tr>\n",
       "  </tbody>\n",
       "</table>\n",
       "</div>"
      ],
      "text/plain": [
       "                                                  Name   Rank  Release  \\\n",
       "92                    Edgar the Explorer, Jump ’n’ Run   93.0  2016-08   \n",
       "83                                     Mercurial Story   84.0  2014-11   \n",
       "135                                         Type:Rider  136.0  2013-10   \n",
       "39                                               LIMBO   40.0  2013-07   \n",
       "32   Apple-Rächer : Kostenloser Spaß laufen und spr...   33.0  2012-08   \n",
       "\n",
       "      Update  Rank_2016-08-23  Rank_2016-08-25  Rank_2016-08-27  \\\n",
       "92   2016-08             92.0            131.0             51.0   \n",
       "83   2014-11             84.0             84.0             87.0   \n",
       "135  2013-11            136.0            136.0            138.0   \n",
       "39   2014-12             40.0             40.0             41.0   \n",
       "32   2016-05             33.0             33.0             34.0   \n",
       "\n",
       "     Rank_2016-09-08  rank_delta  \n",
       "92              32.0       -61.0  \n",
       "83              75.0        -9.0  \n",
       "135            128.0        -8.0  \n",
       "39              33.0        -7.0  \n",
       "32              26.0        -7.0  "
      ]
     },
     "execution_count": 7,
     "metadata": {},
     "output_type": "execute_result"
    }
   ],
   "source": [
    "best_ev"
   ]
  },
  {
   "cell_type": "code",
   "execution_count": 8,
   "metadata": {
    "collapsed": false
   },
   "outputs": [
    {
     "data": {
      "text/html": [
       "<div>\n",
       "<table border=\"1\" class=\"dataframe\">\n",
       "  <thead>\n",
       "    <tr style=\"text-align: right;\">\n",
       "      <th></th>\n",
       "      <th>Name</th>\n",
       "      <th>Rank</th>\n",
       "      <th>Release</th>\n",
       "      <th>Update</th>\n",
       "      <th>Rank_2016-08-23</th>\n",
       "      <th>Rank_2016-08-25</th>\n",
       "      <th>Rank_2016-08-27</th>\n",
       "      <th>Rank_2016-09-08</th>\n",
       "      <th>rank_delta</th>\n",
       "    </tr>\n",
       "  </thead>\n",
       "  <tbody>\n",
       "    <tr>\n",
       "      <th>92</th>\n",
       "      <td>Edgar the Explorer, Jump ’n’ Run</td>\n",
       "      <td>93.0</td>\n",
       "      <td>2016-08</td>\n",
       "      <td>2016-08</td>\n",
       "      <td>92.0</td>\n",
       "      <td>131.0</td>\n",
       "      <td>51.0</td>\n",
       "      <td>32.0</td>\n",
       "      <td>-61.0</td>\n",
       "    </tr>\n",
       "  </tbody>\n",
       "</table>\n",
       "</div>"
      ],
      "text/plain": [
       "                                Name  Rank  Release   Update  Rank_2016-08-23  \\\n",
       "92  Edgar the Explorer, Jump ’n’ Run  93.0  2016-08  2016-08             92.0   \n",
       "\n",
       "    Rank_2016-08-25  Rank_2016-08-27  Rank_2016-09-08  rank_delta  \n",
       "92            131.0             51.0             32.0       -61.0  "
      ]
     },
     "execution_count": 8,
     "metadata": {},
     "output_type": "execute_result"
    }
   ],
   "source": [
    "df[df['Name'].str.contains('Edgar')]"
   ]
  },
  {
   "cell_type": "code",
   "execution_count": 9,
   "metadata": {
    "collapsed": true
   },
   "outputs": [],
   "source": [
    "import matplotlib.pyplot as plt\n",
    "%matplotlib inline"
   ]
  },
  {
   "cell_type": "code",
   "execution_count": 12,
   "metadata": {
    "collapsed": false
   },
   "outputs": [
    {
     "data": {
      "text/plain": [
       "<matplotlib.axes._subplots.AxesSubplot at 0x109bb64a8>"
      ]
     },
     "execution_count": 12,
     "metadata": {},
     "output_type": "execute_result"
    },
    {
     "data": {
      "image/png": "[encoded data removed]",
      "text/plain": [
       "<matplotlib.figure.Figure at 0x10e25b5f8>"
      ]
     },
     "metadata": {},
     "output_type": "display_data"
    }
   ],
   "source": [
    "#df[['rank_delta', 'Name']].plot(kind='barh', figsize=(12, 12))\n",
    "\n",
    "columns = ['Rank', 'Rank_' + last_date]\n",
    "#df.index = df['Name']\n",
    "best_ev.index = best_ev['Name']\n",
    "best_ev.head(20)[columns].plot(kind='bar', figsize=(12, 12))"
   ]
  },
  {
   "cell_type": "code",
   "execution_count": 15,
   "metadata": {
    "collapsed": true
   },
   "outputs": [],
   "source": [
    "df.to_excel('platform.xls', index=False)"
   ]
  },
  {
   "cell_type": "code",
   "execution_count": 14,
   "metadata": {
    "collapsed": true
   },
   "outputs": [],
   "source": [
    "!open ."
   ]
  }
 ],
 "metadata": {
  "kernelspec": {
   "display_name": "Python 3",
   "language": "python",
   "name": "python3"
  },
  "language_info": {
   "codemirror_mode": {
    "name": "ipython",
    "version": 3
   },
   "file_extension": ".py",
   "mimetype": "text/x-python",
   "name": "python",
   "nbconvert_exporter": "python",
   "pygments_lexer": "ipython3",
   "version": "3.5.1"
  },
  "widgets": {
   "state": {},
   "version": "1.1.2"
  }
 },
 "nbformat": 4,
 "nbformat_minor": 0
}
