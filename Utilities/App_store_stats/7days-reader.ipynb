{
 "cells": [
  {
   "cell_type": "code",
   "execution_count": 1,
   "metadata": {
    "collapsed": true
   },
   "outputs": [],
   "source": [
    "import pandas as pd\n",
    "import glob"
   ]
  },
  {
   "cell_type": "code",
   "execution_count": 2,
   "metadata": {
    "collapsed": false
   },
   "outputs": [],
   "source": [
    "#files_all = glob.glob('data/*.csv')\n",
    "platform = glob.glob('data/ch_platform_*.csv')\n",
    "platformer = glob.glob('data/ch_platformer_*.csv')"
   ]
  },
  {
   "cell_type": "code",
   "execution_count": 3,
   "metadata": {
    "collapsed": false
   },
   "outputs": [
    {
     "data": {
      "text/html": [
       "<div>\n",
       "<table border=\"1\" class=\"dataframe\">\n",
       "  <thead>\n",
       "    <tr style=\"text-align: right;\">\n",
       "      <th></th>\n",
       "      <th>Name</th>\n",
       "      <th>Rank</th>\n",
       "      <th>Release</th>\n",
       "      <th>Update</th>\n",
       "      <th>Rank_2016-08-23</th>\n",
       "      <th>Rank_2016-08-25</th>\n",
       "      <th>Rank_2016-08-27</th>\n",
       "      <th>Rank_2016-09-08</th>\n",
       "      <th>Rank_2016-09-18</th>\n",
       "    </tr>\n",
       "  </thead>\n",
       "  <tbody>\n",
       "    <tr>\n",
       "      <th>0</th>\n",
       "      <td>Lep's World Kostenlos - das super beste Jump a...</td>\n",
       "      <td>1.0</td>\n",
       "      <td>2011-12</td>\n",
       "      <td>2016-08</td>\n",
       "      <td>1.0</td>\n",
       "      <td>1.0</td>\n",
       "      <td>1.0</td>\n",
       "      <td>NaN</td>\n",
       "      <td>NaN</td>\n",
       "    </tr>\n",
       "    <tr>\n",
       "      <th>1</th>\n",
       "      <td>Mega Run - Redford's Adventure</td>\n",
       "      <td>2.0</td>\n",
       "      <td>2012-05</td>\n",
       "      <td>2015-12</td>\n",
       "      <td>2.0</td>\n",
       "      <td>2.0</td>\n",
       "      <td>2.0</td>\n",
       "      <td>2.0</td>\n",
       "      <td>2.0</td>\n",
       "    </tr>\n",
       "  </tbody>\n",
       "</table>\n",
       "</div>"
      ],
      "text/plain": [
       "                                                Name  Rank  Release   Update  \\\n",
       "0  Lep's World Kostenlos - das super beste Jump a...   1.0  2011-12  2016-08   \n",
       "1                     Mega Run - Redford's Adventure   2.0  2012-05  2015-12   \n",
       "\n",
       "   Rank_2016-08-23  Rank_2016-08-25  Rank_2016-08-27  Rank_2016-09-08  \\\n",
       "0              1.0              1.0              1.0              NaN   \n",
       "1              2.0              2.0              2.0              2.0   \n",
       "\n",
       "   Rank_2016-09-18  \n",
       "0              NaN  \n",
       "1              2.0  "
      ]
     },
     "execution_count": 3,
     "metadata": {},
     "output_type": "execute_result"
    }
   ],
   "source": [
    "def short_date(value):\n",
    "    return value[:7]\n",
    "\n",
    "df = pd.DataFrame()\n",
    "last_date = ''\n",
    "for file in platform:\n",
    "    if df.shape[0] == 0:\n",
    "        df = pd.read_csv(file, usecols=['Name', 'Release', 'Update', 'Rank']) # 'Release', 'Update', \n",
    "        df['Release'] = df['Release'].apply(short_date)\n",
    "        df['Update'] = df['Update'].apply(short_date)\n",
    "    else:\n",
    "        the_date = file.split('_')[2][:-4]\n",
    "        new_df = pd.read_csv(file, usecols=['Name', 'Rank'])\n",
    "        df = df.merge(new_df, how='outer', on='Name', suffixes=('', '_'+the_date), copy=False)\n",
    "        last_date = the_date\n",
    "    \n",
    "df.head(2)"
   ]
  },
  {
   "cell_type": "code",
   "execution_count": 4,
   "metadata": {
    "collapsed": false
   },
   "outputs": [],
   "source": [
    "df['rank_delta'] = df['Rank_' + last_date] - df['Rank']\n",
    "best_ev = df.sort_values(by='rank_delta').head(5)\n",
    "worst_ev = df.sort_values(by='rank_delta', ascending=False).head(5)"
   ]
  },
  {
   "cell_type": "code",
   "execution_count": 5,
   "metadata": {
    "collapsed": false
   },
   "outputs": [
    {
     "data": {
      "text/html": [
       "<div>\n",
       "<table border=\"1\" class=\"dataframe\">\n",
       "  <thead>\n",
       "    <tr style=\"text-align: right;\">\n",
       "      <th></th>\n",
       "      <th>Name</th>\n",
       "      <th>Rank</th>\n",
       "      <th>Release</th>\n",
       "      <th>Update</th>\n",
       "      <th>Rank_2016-08-23</th>\n",
       "      <th>Rank_2016-08-25</th>\n",
       "      <th>Rank_2016-08-27</th>\n",
       "      <th>Rank_2016-09-08</th>\n",
       "      <th>Rank_2016-09-18</th>\n",
       "      <th>rank_delta</th>\n",
       "    </tr>\n",
       "  </thead>\n",
       "  <tbody>\n",
       "    <tr>\n",
       "      <th>47</th>\n",
       "      <td>Rocco´s Block Land - a super 2d retro jump and...</td>\n",
       "      <td>48.0</td>\n",
       "      <td>2012-07</td>\n",
       "      <td>2014-12</td>\n",
       "      <td>48.0</td>\n",
       "      <td>49.0</td>\n",
       "      <td>49.0</td>\n",
       "      <td>135.0</td>\n",
       "      <td>134.0</td>\n",
       "      <td>86.0</td>\n",
       "    </tr>\n",
       "    <tr>\n",
       "      <th>8</th>\n",
       "      <td>Kiba &amp; Kumba: Jungle Run - SpielAffe ™ kostenl...</td>\n",
       "      <td>9.0</td>\n",
       "      <td>2013-07</td>\n",
       "      <td>2014-04</td>\n",
       "      <td>9.0</td>\n",
       "      <td>10.0</td>\n",
       "      <td>9.0</td>\n",
       "      <td>56.0</td>\n",
       "      <td>57.0</td>\n",
       "      <td>48.0</td>\n",
       "    </tr>\n",
       "    <tr>\n",
       "      <th>9</th>\n",
       "      <td>Kiba &amp; Kumba: Jungle Jump - SpielAffe™ gratis ...</td>\n",
       "      <td>10.0</td>\n",
       "      <td>2013-08</td>\n",
       "      <td>2013-10</td>\n",
       "      <td>10.0</td>\n",
       "      <td>11.0</td>\n",
       "      <td>11.0</td>\n",
       "      <td>57.0</td>\n",
       "      <td>54.0</td>\n",
       "      <td>44.0</td>\n",
       "    </tr>\n",
       "    <tr>\n",
       "      <th>49</th>\n",
       "      <td>PlayKids Party - Spiele und Aktivitäten für Ki...</td>\n",
       "      <td>50.0</td>\n",
       "      <td>2015-12</td>\n",
       "      <td>2016-08</td>\n",
       "      <td>50.0</td>\n",
       "      <td>48.0</td>\n",
       "      <td>61.0</td>\n",
       "      <td>71.0</td>\n",
       "      <td>75.0</td>\n",
       "      <td>25.0</td>\n",
       "    </tr>\n",
       "    <tr>\n",
       "      <th>118</th>\n",
       "      <td>ReRunners: Race for the World</td>\n",
       "      <td>119.0</td>\n",
       "      <td>2016-07</td>\n",
       "      <td>2016-08</td>\n",
       "      <td>119.0</td>\n",
       "      <td>119.0</td>\n",
       "      <td>130.0</td>\n",
       "      <td>126.0</td>\n",
       "      <td>128.0</td>\n",
       "      <td>9.0</td>\n",
       "    </tr>\n",
       "  </tbody>\n",
       "</table>\n",
       "</div>"
      ],
      "text/plain": [
       "                                                  Name   Rank  Release  \\\n",
       "47   Rocco´s Block Land - a super 2d retro jump and...   48.0  2012-07   \n",
       "8    Kiba & Kumba: Jungle Run - SpielAffe ™ kostenl...    9.0  2013-07   \n",
       "9    Kiba & Kumba: Jungle Jump - SpielAffe™ gratis ...   10.0  2013-08   \n",
       "49   PlayKids Party - Spiele und Aktivitäten für Ki...   50.0  2015-12   \n",
       "118                      ReRunners: Race for the World  119.0  2016-07   \n",
       "\n",
       "      Update  Rank_2016-08-23  Rank_2016-08-25  Rank_2016-08-27  \\\n",
       "47   2014-12             48.0             49.0             49.0   \n",
       "8    2014-04              9.0             10.0              9.0   \n",
       "9    2013-10             10.0             11.0             11.0   \n",
       "49   2016-08             50.0             48.0             61.0   \n",
       "118  2016-08            119.0            119.0            130.0   \n",
       "\n",
       "     Rank_2016-09-08  Rank_2016-09-18  rank_delta  \n",
       "47             135.0            134.0        86.0  \n",
       "8               56.0             57.0        48.0  \n",
       "9               57.0             54.0        44.0  \n",
       "49              71.0             75.0        25.0  \n",
       "118            126.0            128.0         9.0  "
      ]
     },
     "execution_count": 5,
     "metadata": {},
     "output_type": "execute_result"
    }
   ],
   "source": [
    "worst_ev"
   ]
  },
  {
   "cell_type": "code",
   "execution_count": 6,
   "metadata": {
    "collapsed": false
   },
   "outputs": [
    {
     "data": {
      "text/html": [
       "<div>\n",
       "<table border=\"1\" class=\"dataframe\">\n",
       "  <thead>\n",
       "    <tr style=\"text-align: right;\">\n",
       "      <th></th>\n",
       "      <th>Name</th>\n",
       "      <th>Rank</th>\n",
       "      <th>Release</th>\n",
       "      <th>Update</th>\n",
       "      <th>Rank_2016-08-23</th>\n",
       "      <th>Rank_2016-08-25</th>\n",
       "      <th>Rank_2016-08-27</th>\n",
       "      <th>Rank_2016-09-08</th>\n",
       "      <th>Rank_2016-09-18</th>\n",
       "      <th>rank_delta</th>\n",
       "    </tr>\n",
       "  </thead>\n",
       "  <tbody>\n",
       "    <tr>\n",
       "      <th>92</th>\n",
       "      <td>Edgar the Explorer, Jump ’n’ Run</td>\n",
       "      <td>93.0</td>\n",
       "      <td>2016-08</td>\n",
       "      <td>2016-08</td>\n",
       "      <td>92.0</td>\n",
       "      <td>131.0</td>\n",
       "      <td>51.0</td>\n",
       "      <td>32.0</td>\n",
       "      <td>47.0</td>\n",
       "      <td>-46.0</td>\n",
       "    </tr>\n",
       "    <tr>\n",
       "      <th>83</th>\n",
       "      <td>Mercurial Story</td>\n",
       "      <td>84.0</td>\n",
       "      <td>2014-11</td>\n",
       "      <td>2014-11</td>\n",
       "      <td>84.0</td>\n",
       "      <td>84.0</td>\n",
       "      <td>87.0</td>\n",
       "      <td>75.0</td>\n",
       "      <td>74.0</td>\n",
       "      <td>-10.0</td>\n",
       "    </tr>\n",
       "    <tr>\n",
       "      <th>77</th>\n",
       "      <td>Leap Day</td>\n",
       "      <td>78.0</td>\n",
       "      <td>2016-05</td>\n",
       "      <td>2016-07</td>\n",
       "      <td>78.0</td>\n",
       "      <td>77.0</td>\n",
       "      <td>78.0</td>\n",
       "      <td>74.0</td>\n",
       "      <td>71.0</td>\n",
       "      <td>-7.0</td>\n",
       "    </tr>\n",
       "    <tr>\n",
       "      <th>58</th>\n",
       "      <td>Real Slender Man Free</td>\n",
       "      <td>59.0</td>\n",
       "      <td>2013-12</td>\n",
       "      <td>2013-12</td>\n",
       "      <td>58.0</td>\n",
       "      <td>59.0</td>\n",
       "      <td>60.0</td>\n",
       "      <td>53.0</td>\n",
       "      <td>52.0</td>\n",
       "      <td>-7.0</td>\n",
       "    </tr>\n",
       "    <tr>\n",
       "      <th>99</th>\n",
       "      <td>INOQONI - Puzzle und Plattform</td>\n",
       "      <td>100.0</td>\n",
       "      <td>2013-12</td>\n",
       "      <td>2014-03</td>\n",
       "      <td>100.0</td>\n",
       "      <td>98.0</td>\n",
       "      <td>102.0</td>\n",
       "      <td>94.0</td>\n",
       "      <td>94.0</td>\n",
       "      <td>-6.0</td>\n",
       "    </tr>\n",
       "  </tbody>\n",
       "</table>\n",
       "</div>"
      ],
      "text/plain": [
       "                                Name   Rank  Release   Update  \\\n",
       "92  Edgar the Explorer, Jump ’n’ Run   93.0  2016-08  2016-08   \n",
       "83                   Mercurial Story   84.0  2014-11  2014-11   \n",
       "77                          Leap Day   78.0  2016-05  2016-07   \n",
       "58             Real Slender Man Free   59.0  2013-12  2013-12   \n",
       "99    INOQONI - Puzzle und Plattform  100.0  2013-12  2014-03   \n",
       "\n",
       "    Rank_2016-08-23  Rank_2016-08-25  Rank_2016-08-27  Rank_2016-09-08  \\\n",
       "92             92.0            131.0             51.0             32.0   \n",
       "83             84.0             84.0             87.0             75.0   \n",
       "77             78.0             77.0             78.0             74.0   \n",
       "58             58.0             59.0             60.0             53.0   \n",
       "99            100.0             98.0            102.0             94.0   \n",
       "\n",
       "    Rank_2016-09-18  rank_delta  \n",
       "92             47.0       -46.0  \n",
       "83             74.0       -10.0  \n",
       "77             71.0        -7.0  \n",
       "58             52.0        -7.0  \n",
       "99             94.0        -6.0  "
      ]
     },
     "execution_count": 6,
     "metadata": {},
     "output_type": "execute_result"
    }
   ],
   "source": [
    "best_ev"
   ]
  },
  {
   "cell_type": "code",
   "execution_count": 7,
   "metadata": {
    "collapsed": false
   },
   "outputs": [
    {
     "data": {
      "text/html": [
       "<div>\n",
       "<table border=\"1\" class=\"dataframe\">\n",
       "  <thead>\n",
       "    <tr style=\"text-align: right;\">\n",
       "      <th></th>\n",
       "      <th>Name</th>\n",
       "      <th>Rank</th>\n",
       "      <th>Release</th>\n",
       "      <th>Update</th>\n",
       "      <th>Rank_2016-08-23</th>\n",
       "      <th>Rank_2016-08-25</th>\n",
       "      <th>Rank_2016-08-27</th>\n",
       "      <th>Rank_2016-09-08</th>\n",
       "      <th>Rank_2016-09-18</th>\n",
       "      <th>rank_delta</th>\n",
       "    </tr>\n",
       "  </thead>\n",
       "  <tbody>\n",
       "    <tr>\n",
       "      <th>92</th>\n",
       "      <td>Edgar the Explorer, Jump ’n’ Run</td>\n",
       "      <td>93.0</td>\n",
       "      <td>2016-08</td>\n",
       "      <td>2016-08</td>\n",
       "      <td>92.0</td>\n",
       "      <td>131.0</td>\n",
       "      <td>51.0</td>\n",
       "      <td>32.0</td>\n",
       "      <td>47.0</td>\n",
       "      <td>-46.0</td>\n",
       "    </tr>\n",
       "  </tbody>\n",
       "</table>\n",
       "</div>"
      ],
      "text/plain": [
       "                                Name  Rank  Release   Update  Rank_2016-08-23  \\\n",
       "92  Edgar the Explorer, Jump ’n’ Run  93.0  2016-08  2016-08             92.0   \n",
       "\n",
       "    Rank_2016-08-25  Rank_2016-08-27  Rank_2016-09-08  Rank_2016-09-18  \\\n",
       "92            131.0             51.0             32.0             47.0   \n",
       "\n",
       "    rank_delta  \n",
       "92       -46.0  "
      ]
     },
     "execution_count": 7,
     "metadata": {},
     "output_type": "execute_result"
    }
   ],
   "source": [
    "df[df['Name'].str.contains('Edgar')]"
   ]
  },
  {
   "cell_type": "code",
   "execution_count": 8,
   "metadata": {
    "collapsed": true
   },
   "outputs": [],
   "source": [
    "import matplotlib.pyplot as plt\n",
    "%matplotlib inline"
   ]
  },
  {
   "cell_type": "code",
   "execution_count": 9,
   "metadata": {
    "collapsed": false
   },
   "outputs": [
    {
     "data": {
      "text/plain": [
       "<matplotlib.axes._subplots.AxesSubplot at 0x1156729e8>"
      ]
     },
     "execution_count": 9,
     "metadata": {},
     "output_type": "execute_result"
    },
    {
     "data": {
      "image/png": "[encoded data removed]",
      "text/plain": [
       "<matplotlib.figure.Figure at 0x115663f60>"
      ]
     },
     "metadata": {},
     "output_type": "display_data"
    }
   ],
   "source": [
    "#df[['rank_delta', 'Name']].plot(kind='barh', figsize=(12, 12))\n",
    "\n",
    "columns = ['Rank', 'Rank_' + last_date]\n",
    "#df.index = df['Name']\n",
    "best_ev.index = best_ev['Name']\n",
    "best_ev.head(20)[columns].plot(kind='bar', figsize=(12, 12))"
   ]
  },
  {
   "cell_type": "code",
   "execution_count": 10,
   "metadata": {
    "collapsed": false
   },
   "outputs": [],
   "source": [
    "df = df.sort_values(by='Rank_' + last_date)"
   ]
  },
  {
   "cell_type": "code",
   "execution_count": 11,
   "metadata": {
    "collapsed": false
   },
   "outputs": [
    {
     "data": {
      "text/html": [
       "<div>\n",
       "<table border=\"1\" class=\"dataframe\">\n",
       "  <thead>\n",
       "    <tr style=\"text-align: right;\">\n",
       "      <th></th>\n",
       "      <th>Name</th>\n",
       "      <th>Rank_2016-09-18</th>\n",
       "      <th>Rank</th>\n",
       "      <th>rank_delta</th>\n",
       "      <th>Release</th>\n",
       "      <th>Update</th>\n",
       "    </tr>\n",
       "  </thead>\n",
       "  <tbody>\n",
       "    <tr>\n",
       "      <th>165</th>\n",
       "      <td>Lep's World Kostenlos - super Jump and Run Spiele</td>\n",
       "      <td>1.0</td>\n",
       "      <td>NaN</td>\n",
       "      <td>NaN</td>\n",
       "      <td>NaN</td>\n",
       "      <td>NaN</td>\n",
       "    </tr>\n",
       "    <tr>\n",
       "      <th>1</th>\n",
       "      <td>Mega Run - Redford's Adventure</td>\n",
       "      <td>2.0</td>\n",
       "      <td>2.0</td>\n",
       "      <td>0.0</td>\n",
       "      <td>2012-05</td>\n",
       "      <td>2015-12</td>\n",
       "    </tr>\n",
       "    <tr>\n",
       "      <th>3</th>\n",
       "      <td>Die Schlümpfe Epic Run - Fun Platform Adventure</td>\n",
       "      <td>3.0</td>\n",
       "      <td>4.0</td>\n",
       "      <td>-1.0</td>\n",
       "      <td>2016-01</td>\n",
       "      <td>2016-07</td>\n",
       "    </tr>\n",
       "    <tr>\n",
       "      <th>2</th>\n",
       "      <td>Aerox</td>\n",
       "      <td>4.0</td>\n",
       "      <td>3.0</td>\n",
       "      <td>1.0</td>\n",
       "      <td>2010-07</td>\n",
       "      <td>2013-09</td>\n",
       "    </tr>\n",
       "    <tr>\n",
       "      <th>166</th>\n",
       "      <td>Piggy Show</td>\n",
       "      <td>5.0</td>\n",
       "      <td>NaN</td>\n",
       "      <td>NaN</td>\n",
       "      <td>NaN</td>\n",
       "      <td>NaN</td>\n",
       "    </tr>\n",
       "  </tbody>\n",
       "</table>\n",
       "</div>"
      ],
      "text/plain": [
       "                                                  Name  Rank_2016-09-18  Rank  \\\n",
       "165  Lep's World Kostenlos - super Jump and Run Spiele              1.0   NaN   \n",
       "1                       Mega Run - Redford's Adventure              2.0   2.0   \n",
       "3      Die Schlümpfe Epic Run - Fun Platform Adventure              3.0   4.0   \n",
       "2                                                Aerox              4.0   3.0   \n",
       "166                                         Piggy Show              5.0   NaN   \n",
       "\n",
       "     rank_delta  Release   Update  \n",
       "165         NaN      NaN      NaN  \n",
       "1           0.0  2012-05  2015-12  \n",
       "3          -1.0  2016-01  2016-07  \n",
       "2           1.0  2010-07  2013-09  \n",
       "166         NaN      NaN      NaN  "
      ]
     },
     "execution_count": 11,
     "metadata": {},
     "output_type": "execute_result"
    }
   ],
   "source": [
    "dfx = df[['Name', 'Rank_'+last_date, 'Rank', 'rank_delta', 'Release', 'Update']]\n",
    "#dfx = dfx[dfx['Rank_'+last_date] == dfx['Rank_'+last_date]]\n",
    "dfx.head()"
   ]
  },
  {
   "cell_type": "code",
   "execution_count": null,
   "metadata": {
    "collapsed": true
   },
   "outputs": [],
   "source": []
  },
  {
   "cell_type": "code",
   "execution_count": null,
   "metadata": {
    "collapsed": true
   },
   "outputs": [],
   "source": []
  },
  {
   "cell_type": "code",
   "execution_count": 12,
   "metadata": {
    "collapsed": true
   },
   "outputs": [],
   "source": [
    "dfx.to_excel('platform-sort-last.xls', index=False)"
   ]
  },
  {
   "cell_type": "code",
   "execution_count": 13,
   "metadata": {
    "collapsed": true
   },
   "outputs": [],
   "source": [
    "!open ."
   ]
  },
  {
   "cell_type": "code",
   "execution_count": null,
   "metadata": {
    "collapsed": true
   },
   "outputs": [],
   "source": []
  }
 ],
 "metadata": {
  "kernelspec": {
   "display_name": "Python 3",
   "language": "python",
   "name": "python3"
  },
  "language_info": {
   "codemirror_mode": {
    "name": "ipython",
    "version": 3
   },
   "file_extension": ".py",
   "mimetype": "text/x-python",
   "name": "python",
   "nbconvert_exporter": "python",
   "pygments_lexer": "ipython3",
   "version": "3.5.1"
  },
  "widgets": {
   "state": {},
   "version": "1.1.2"
  }
 },
 "nbformat": 4,
 "nbformat_minor": 0
}
