{
 "cells": [
  {
   "cell_type": "markdown",
   "metadata": {},
   "source": [
    "https://docs.python.org/3/library/xml.dom.minidom.html#"
   ]
  },
  {
   "cell_type": "code",
   "execution_count": 1,
   "metadata": {},
   "outputs": [],
   "source": [
    "from xml.dom.minidom import parse, parseString"
   ]
  },
  {
   "cell_type": "code",
   "execution_count": 12,
   "metadata": {},
   "outputs": [],
   "source": [
    "dom = parse('input/Level_3.tmx')"
   ]
  },
  {
   "cell_type": "code",
   "execution_count": 13,
   "metadata": {},
   "outputs": [],
   "source": [
    "dom.getElementsByTagName(\"map\")[0].setAttribute(\"tilewidth\", '300')\n",
    "dom.getElementsByTagName(\"map\")[0].setAttribute(\"tileheight\", '300')\n",
    "\n",
    "for tileset in dom.getElementsByTagName(\"tileset\"):\n",
    "    tileset.setAttribute(\"tilewidth\", '300')\n",
    "    tileset.setAttribute(\"tileheight\", '300')\n",
    "\n",
    "    for image in tileset.getElementsByTagName('image'):\n",
    "        if image.getAttribute('source') == 'ElementsTiles-01-01.png':\n",
    "            image.setAttribute('source', 'Tiles_x3.png')\n",
    "            image.setAttribute('name', 'Tiles_x3')\n",
    "            for attr in ['width', 'height']:\n",
    "                value = image.getAttribute(attr)\n",
    "                image.setAttribute(attr, str(int(value) * 3))\n",
    "    print(tileset.toxml())"
   ]
  },
  {
   "cell_type": "code",
   "execution_count": 144,
   "metadata": {},
   "outputs": [
    {
     "name": "stdout",
     "output_type": "stream",
     "text": [
      "0,0\n",
      "300,0\n",
      "400,100\n",
      "0,100\n"
     ]
    }
   ],
   "source": [
    "for group in dom.getElementsByTagName(\"objectgroup\"):\n",
    "    for obj in group.getElementsByTagName('object'):\n",
    "        for attribute in ['x', 'y', 'width', 'height']:\n",
    "            if attribute in obj.attributes:\n",
    "                try:\n",
    "                    value = float(obj.getAttribute(attribute))\n",
    "                    if value % 1 != 0.5: # half is ok\n",
    "                        value = int(round(value))\n",
    "                    obj.setAttribute(attribute, str(value * 3))\n",
    "                except:\n",
    "                    print(obj.toxml())\n",
    "        if len( obj.getElementsByTagName('polygon') ) > 0:\n",
    "            poly = obj.getElementsByTagName('polygon')[0]\n",
    "            if 'points' in poly.attributes:\n",
    "                points = poly.getAttribute('points').split(' ')\n",
    "                newPoints = []\n",
    "                for point in points:\n",
    "                    print(point)\n",
    "                    x, y = [int(i) * 3 for i in point.split(',')]\n",
    "                    newPoints.append(\"{},{}\".format(x, y))\n",
    "                poly.setAttribute('points', \" \".join(newPoints) )"
   ]
  },
  {
   "cell_type": "code",
   "execution_count": 145,
   "metadata": {},
   "outputs": [
    {
     "data": {
      "text/plain": [
       "['0,0', '300,0', '400,100', '0,100']"
      ]
     },
     "execution_count": 145,
     "metadata": {},
     "output_type": "execute_result"
    }
   ],
   "source": [
    "points"
   ]
  },
  {
   "cell_type": "code",
   "execution_count": 146,
   "metadata": {},
   "outputs": [
    {
     "name": "stdout",
     "output_type": "stream",
     "text": [
      "<polygon points=\"0,0 900,0 1200,300 0,300\"/>\n"
     ]
    }
   ],
   "source": [
    "print(poly.toxml())"
   ]
  },
  {
   "cell_type": "code",
   "execution_count": 147,
   "metadata": {
    "scrolled": true
   },
   "outputs": [],
   "source": [
    "fh = open(\"Level_2_x3.tmx\",\"w\")\n",
    "dom.writexml(fh)\n",
    "fh.close()"
   ]
  },
  {
   "cell_type": "code",
   "execution_count": null,
   "metadata": {},
   "outputs": [],
   "source": []
  }
 ],
 "metadata": {
  "kernelspec": {
   "display_name": "Python 3",
   "language": "python",
   "name": "python3"
  },
  "language_info": {
   "codemirror_mode": {
    "name": "ipython",
    "version": 3
   },
   "file_extension": ".py",
   "mimetype": "text/x-python",
   "name": "python",
   "nbconvert_exporter": "python",
   "pygments_lexer": "ipython3",
   "version": "3.8.1"
  }
 },
 "nbformat": 4,
 "nbformat_minor": 4
}
