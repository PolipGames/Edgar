{
 "cells": [
  {
   "cell_type": "markdown",
   "metadata": {},
   "source": [
    "https://docs.python.org/3/library/xml.dom.minidom.html#"
   ]
  },
  {
   "cell_type": "code",
   "execution_count": 9,
   "metadata": {},
   "outputs": [],
   "source": [
    "from xml.dom.minidom import parse, parseString\n",
    "from glob import glob"
   ]
  },
  {
   "cell_type": "code",
   "execution_count": 10,
   "metadata": {},
   "outputs": [],
   "source": [
    "files = glob('input/*.tmx')"
   ]
  },
  {
   "cell_type": "code",
   "execution_count": 11,
   "metadata": {},
   "outputs": [
    {
     "data": {
      "text/plain": [
       "['input/Level_8.tmx',\n",
       " 'input/Level_3.tmx',\n",
       " 'input/Level_5.tmx',\n",
       " 'input/Level_4.tmx',\n",
       " 'input/Level_6.tmx',\n",
       " 'input/Level_7.tmx']"
      ]
     },
     "execution_count": 11,
     "metadata": {},
     "output_type": "execute_result"
    }
   ],
   "source": [
    "files"
   ]
  },
  {
   "cell_type": "code",
   "execution_count": 12,
   "metadata": {},
   "outputs": [
    {
     "name": "stdout",
     "output_type": "stream",
     "text": [
      "Converting input/Level_8.tmx... <tileset firstgid=\"1\" name=\"ElementsTiles-01-01\" tilewidth=\"300\" tileheight=\"300\" tilecount=\"39\" columns=\"13\">\n",
      "  <image source=\"Tiles_x3.png\" width=\"3900\" height=\"900\" name=\"Tiles_x3\"/>\n",
      " </tileset>\n",
      "<tileset firstgid=\"40\" name=\"elementsFin-02\" tilewidth=\"300\" tileheight=\"300\" tilecount=\"48\" columns=\"8\">\n",
      "  <image source=\"elementsFin-02.png\" width=\"800\" height=\"600\"/>\n",
      " </tileset>\n",
      "<tileset firstgid=\"88\" name=\"Lvl1_fond_smaller\" tilewidth=\"300\" tileheight=\"300\" tilecount=\"40\" columns=\"10\">\n",
      "  <image source=\"Lvl1_fond_smaller.png\" width=\"1000\" height=\"400\"/>\n",
      " </tileset>\n",
      "DONE\n",
      "Converting input/Level_3.tmx... <tileset firstgid=\"1\" name=\"ElementsTiles-01-01.png\" tilewidth=\"300\" tileheight=\"300\">\n",
      "  <image source=\"Tiles_x3.png\" width=\"3900\" height=\"900\" name=\"Tiles_x3\"/>\n",
      " </tileset>\n",
      "DONE\n",
      "Converting input/Level_5.tmx... <tileset firstgid=\"1\" name=\"ElementsTiles-01-01\" tilewidth=\"300\" tileheight=\"300\">\n",
      "  <image source=\"Tiles_x3.png\" width=\"3900\" height=\"900\" name=\"Tiles_x3\"/>\n",
      " </tileset>\n",
      "<tileset firstgid=\"40\" name=\"rail_textures\" tilewidth=\"300\" tileheight=\"300\">\n",
      "  <image source=\"rail_textures.png\" width=\"400\" height=\"400\"/>\n",
      " </tileset>\n",
      "DONE\n",
      "Converting input/Level_4.tmx... <tileset firstgid=\"1\" name=\"ElementsTiles-01-01\" tilewidth=\"300\" tileheight=\"300\">\n",
      "  <image source=\"Tiles_x3.png\" width=\"3900\" height=\"900\" name=\"Tiles_x3\"/>\n",
      " </tileset>\n",
      "DONE\n",
      "Converting input/Level_6.tmx... <tileset firstgid=\"1\" name=\"ElementsTiles-01-01\" tilewidth=\"300\" tileheight=\"300\">\n",
      "  <image source=\"Tiles_x3.png\" width=\"3900\" height=\"900\" name=\"Tiles_x3\"/>\n",
      " </tileset>\n",
      "DONE\n",
      "Converting input/Level_7.tmx... <tileset firstgid=\"1\" name=\"ElementsTiles-01-01\" tilewidth=\"300\" tileheight=\"300\">\n",
      "  <image source=\"Tiles_x3.png\" width=\"3900\" height=\"900\" name=\"Tiles_x3\"/>\n",
      " </tileset>\n",
      "DONE\n"
     ]
    }
   ],
   "source": [
    "for file in files:\n",
    "\n",
    "    print('Converting', file, end='... ')\n",
    "    dom = parse(file)\n",
    "    \n",
    "    dom.getElementsByTagName(\"map\")[0].setAttribute(\"tilewidth\", '300')\n",
    "    dom.getElementsByTagName(\"map\")[0].setAttribute(\"tileheight\", '300')\n",
    "\n",
    "    for tileset in dom.getElementsByTagName(\"tileset\"):\n",
    "        tileset.setAttribute(\"tilewidth\", '300')\n",
    "        tileset.setAttribute(\"tileheight\", '300')\n",
    "\n",
    "        for image in tileset.getElementsByTagName('image'):\n",
    "            if image.getAttribute('source') == 'ElementsTiles-01-01.png':\n",
    "                image.setAttribute('source', 'Tiles_x3.png')\n",
    "                image.setAttribute('name', 'Tiles_x3')\n",
    "                for attr in ['width', 'height']:\n",
    "                    value = image.getAttribute(attr)\n",
    "                    image.setAttribute(attr, str(int(value) * 3))\n",
    "        print(tileset.toxml())\n",
    "\n",
    "    for group in dom.getElementsByTagName(\"objectgroup\"):\n",
    "        for obj in group.getElementsByTagName('object'):\n",
    "            for attribute in ['x', 'y', 'width', 'height']:\n",
    "                if attribute in obj.attributes:\n",
    "                    try:\n",
    "                        value = float(obj.getAttribute(attribute))\n",
    "                        if value % 1 != 0.5: # half is ok\n",
    "                            value = int(round(value))\n",
    "                        obj.setAttribute(attribute, str(value * 3))\n",
    "                    except:\n",
    "                        print(obj.toxml())\n",
    "            if len( obj.getElementsByTagName('polygon') ) > 0:\n",
    "                poly = obj.getElementsByTagName('polygon')[0]\n",
    "                if 'points' in poly.attributes:\n",
    "                    points = poly.getAttribute('points').split(' ')\n",
    "                    newPoints = []\n",
    "                    for point in points:\n",
    "                        print(point)\n",
    "                        x, y = [int(float(i)) * 3 for i in point.split(',')]\n",
    "                        newPoints.append(\"{},{}\".format(x, y))\n",
    "                    poly.setAttribute('points', \" \".join(newPoints) )\n",
    "\n",
    "    outputfile = file.replace('input', 'output')\n",
    "    fh = open(outputfile,\"w\")\n",
    "    dom.writexml(fh)\n",
    "    fh.close()\n",
    "    print('DONE')"
   ]
  },
  {
   "cell_type": "code",
   "execution_count": null,
   "metadata": {},
   "outputs": [],
   "source": []
  }
 ],
 "metadata": {
  "kernelspec": {
   "display_name": "Python 3",
   "language": "python",
   "name": "python3"
  },
  "language_info": {
   "codemirror_mode": {
    "name": "ipython",
    "version": 3
   },
   "file_extension": ".py",
   "mimetype": "text/x-python",
   "name": "python",
   "nbconvert_exporter": "python",
   "pygments_lexer": "ipython3",
   "version": "3.8.1"
  }
 },
 "nbformat": 4,
 "nbformat_minor": 4
}
